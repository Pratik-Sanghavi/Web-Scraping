{
 "cells": [
  {
   "cell_type": "markdown",
   "metadata": {},
   "source": [
    "# Law QnA"
   ]
  },
  {
   "cell_type": "code",
   "execution_count": 8,
   "metadata": {},
   "outputs": [],
   "source": [
    "import os\n",
    "from dotenv import load_dotenv\n",
    "from langchain.document_loaders import PyPDFLoader\n",
    "from langchain.text_splitter import RecursiveCharacterTextSplitter\n",
    "from langchain_openai import OpenAIEmbeddings\n",
    "from tqdm import tqdm\n",
    "from langchain.vectorstores import Pinecone\n",
    "from langchain.chat_models import ChatOpenAI\n",
    "from langchain.chains import RetrievalQA, RetrievalQAWithSourcesChain\n",
    "import pandas as pd\n",
    "import pinecone\n",
    "import tiktoken\n",
    "from uuid import uuid4"
   ]
  },
  {
   "cell_type": "code",
   "execution_count": 2,
   "metadata": {},
   "outputs": [],
   "source": [
    "load_dotenv('.env')\n",
    "OPENAI_API_KEY=os.environ.get('OPENAI_API_KEY')\n",
    "PINECONE_API_KEY=os.environ.get('PINECONE_API_KEY')"
   ]
  },
  {
   "cell_type": "code",
   "execution_count": 3,
   "metadata": {},
   "outputs": [],
   "source": [
    "pinecone.init(      \n",
    "\tapi_key=PINECONE_API_KEY,      \n",
    "\tenvironment='gcp-starter'      \n",
    ")\n",
    "index = pinecone.Index('law-search')"
   ]
  },
  {
   "cell_type": "code",
   "execution_count": 4,
   "metadata": {},
   "outputs": [],
   "source": [
    "tokenizer = tiktoken.get_encoding('cl100k_base')\n",
    "def tiktoken_len(text):\n",
    "    tokens = tokenizer.encode(\n",
    "        text,\n",
    "        disallowed_special=()\n",
    "    )\n",
    "    return len(tokens)\n",
    "\n",
    "text_splitter = RecursiveCharacterTextSplitter(\n",
    "    chunk_size=100,\n",
    "    chunk_overlap=20,\n",
    "    length_function=tiktoken_len,\n",
    "    separators=[\"\\n\\n\", \"\\n\", \" \", \"\"]\n",
    ")"
   ]
  },
  {
   "cell_type": "code",
   "execution_count": 5,
   "metadata": {},
   "outputs": [],
   "source": [
    "embed = OpenAIEmbeddings()"
   ]
  },
  {
   "cell_type": "code",
   "execution_count": 6,
   "metadata": {},
   "outputs": [
    {
     "name": "stderr",
     "output_type": "stream",
     "text": [
      "  0%|          | 0/115 [01:46<?, ?it/s]\n"
     ]
    }
   ],
   "source": [
    "def load_chunk_persist_pdf(constitution_path='india_code/data/constitution.csv'):\n",
    "    batch_limit = 64\n",
    "    texts = []\n",
    "    metadatas = []\n",
    "\n",
    "    df = pd.read_csv(constitution_path)\n",
    "    for i in tqdm(range(df.shape[0])):\n",
    "        loader = PyPDFLoader(df.iloc[i,1])\n",
    "        contents = \"\".join(page.page_content for page in loader.load())\n",
    "        record_texts = text_splitter.split_text(contents)\n",
    "        \n",
    "        record_metadatas = [{\n",
    "            \"chunk\": j, \"text\": text, \"source\": f'{df.iloc[i,0]}, part {j}'\n",
    "        } for j, text in enumerate(record_texts)]\n",
    "        texts.extend(record_texts)\n",
    "        metadatas.extend(record_metadatas)\n",
    "        if len(texts) >= batch_limit:\n",
    "            ids = [str(uuid4()) for _ in range(len(texts))]\n",
    "            embeds = embed.embed_documents(texts)\n",
    "            for k in range(0, len(ids), batch_limit):\n",
    "                stop_index = min(k+batch_limit, len(ids))\n",
    "                index.upsert(vectors=zip(ids[k:stop_index], embeds[k:stop_index], metadatas[k:stop_index]))\n",
    "            texts = []\n",
    "            metadatas = []\n",
    "        if i>=0:\n",
    "            break\n",
    "\n",
    "    if texts:\n",
    "        ids = [str(uuid4()) for _ in range(len(texts))]\n",
    "        embeds = embed.embed_documents(texts)\n",
    "        index.upsert(vectors=zip(ids, embeds, metadatas))\n",
    "\n",
    "load_chunk_persist_pdf()"
   ]
  },
  {
   "cell_type": "code",
   "execution_count": 9,
   "metadata": {},
   "outputs": [
    {
     "name": "stderr",
     "output_type": "stream",
     "text": [
      "c:\\Users\\Pratik Sanghavi\\Desktop\\Projects\\Web-Scraping\\03. Web_Scraping_ScraPy\\Scrapy_Venv\\Lib\\site-packages\\langchain_community\\vectorstores\\pinecone.py:73: UserWarning: Passing in `embedding` as a Callable is deprecated. Please pass in an Embeddings object instead.\n",
      "  warnings.warn(\n"
     ]
    }
   ],
   "source": [
    "text_field = \"text\"\n",
    "\n",
    "vectorstore = Pinecone(\n",
    "    index,\n",
    "    embed.embed_query,\n",
    "    text_field\n",
    ")"
   ]
  },
  {
   "cell_type": "code",
   "execution_count": 35,
   "metadata": {},
   "outputs": [
    {
     "data": {
      "text/plain": [
       "[Document(page_content='217\\n1[(1B) Nothing in clause (1A) shall apply— \\n(a) to any law which does not contain a recital to the effect that \\nsuch law is in relation to the Proclamation of Emergency in operation \\nwhen it is made; or \\n(b) to any executive action taken otherwise than under a law \\ncontaining such a recital.]', metadata={'chunk': 1790.0, 'name': 'The Constitution of India'}),\n",
       " Document(page_content='such executive action may be taken, under this article in relation to or in any \\nState or Union territory in which or in any part of which the Proclamation of \\nEmergency is not in operation, if and in so far as the security of India or any \\npart of the territory thereof is threatened by activities in or in relation to the part \\nof the territory of India in which the Proclamation of Emergency is in \\noperation.]', metadata={'chunk': 1777.0, 'name': 'The Constitution of India'}),\n",
       " Document(page_content='executive action may be taken, under this article in relation to or in any State or \\nUnion territory in which or in any part of which the Proclamation of \\nEmergency is not in operation, if and in so far as the security of India or any \\npart of the territory thereof is threatened by activities in or in relation to the part \\nof the territory of India in which the Proclamation of Emergency is in \\noperation.] \\n______________________________________________', metadata={'chunk': 1787.0, 'name': 'The Constitution of India'}),\n",
       " Document(page_content='147\\n250. Power of Parliament to legislate with respect to any matter in \\nthe State List if a Proclamation of Emergency is in operation. —(1) \\nNotwithstanding anything in this Chapter, Parliament shall, while a \\nProclamation of Emergency is in operation, have power to make laws for the \\nwhole or any part of the territory of India with respect to  1[goods and services', metadata={'chunk': 1242.0, 'name': 'The Constitution of India'}),\n",
       " Document(page_content='359. Suspension  of  the  enforcement  of  the rights conferred by \\nPart III during emergencies. —(1) Where a Proclamation of Emergency is in \\noperation, the President may by order declare that the right to move any court \\nfor the enforcement of such of 1[the rights conferred by Part III (except articles \\n20 and 21)] as may be mentioned in the order and all proceedings pending in', metadata={'chunk': 1783.0, 'name': 'The Constitution of India'}),\n",
       " Document(page_content='while a Proclamation of Emergency is in operation. \\n  355. Duty of the Union to protect States against external aggression \\nand internal disturbance.  \\n  356. Provisions in case of failure of constitutional machinery in \\nStates. \\n  357. Exercise of legislative powers under Proclamation issued under \\narticle 356. \\n  358. Suspension  of provisions of article 19 during emergencies.', metadata={'chunk': 112.0, 'name': 'The Constitution of India'}),\n",
       " Document(page_content='Proclamation of Emergency\"  (w.e.f. 20-6-1979).    \\n6. Ins. by s. 39, ibid. (w.e.f. 20-6-1979).    THE CONSTITUTION OF  INDIA \\n(Part XVIII.—E MERGENCY PROVISIONS ) \\n 216\\n(a) to any law which does not contain a recital to the effect that', metadata={'chunk': 1781.0, 'name': 'The Constitution of India'}),\n",
       " Document(page_content='which the Proclamation  of Emergency is in operation if and in so far as the \\nsecurity of India or any part of the territory thereof is threatened by activities in \\nor in relation to the part  of the territory of India in which the Proclamation  of \\nEmergency is in operation.] \\n354. Application of provisions relating to distribution of revenues \\nwhile a Proclamation of Emergency is in operation.— (1) The President', metadata={'chunk': 1742.0, 'name': 'The Constitution of India'}),\n",
       " Document(page_content='358. Suspension  of provisions of article 19 during emergencies.  \\n  359. Suspension of the enforcement of  the rights conferred by Part III \\nduring emergencies. \\n[359A. Application of this Part to the State of Punjab. \\uf0beOmitted.] \\n360. Provisions as to financial emergency.   \\n PART XIX  \\nMISCELLANEOUS', metadata={'chunk': 113.0, 'name': 'The Constitution of India'}),\n",
       " Document(page_content='of the territory of India in which the Proclamation of Emergency is in \\noperation.] \\n6[(2) Nothing in clause (1) shall apply— \\n______________________________________________ \\n1. Subs. by the Constitution  (Forty-second Amendment)  Act, 1976, s. 51 (w.e.f. 3-1-1977).', metadata={'chunk': 1778.0, 'name': 'The Constitution of India'}),\n",
       " Document(page_content='208PART XVIII \\nEMERGENCY PROVISIONS \\n352. Proclamation of Emergency. —(1) If the President is satisfied that \\na grave emergency exists whereby the security of India or of any part of the \\nterritory thereof is threatened, whether by war or external aggression or 1[armed', metadata={'chunk': 1717.0, 'name': 'The Constitution of India'}),\n",
       " Document(page_content='while a Proclamation of Emergency is in operation.— (1) The President  \\nmay, while a Proclamation  of Emergency is in operation, by order  direct that \\nall or any of the provisions of articles 268 to 279 shall for such period, not \\nextending in any case beyond the expiration of the financial year in which such \\nProclamation  ceases  to operate, as may be specified in the order, have effect', metadata={'chunk': 1743.0, 'name': 'The Constitution of India'}),\n",
       " Document(page_content='(Part XVIII.—E MERGENCY PROVISIONS ) \\n 215\\n1[(2) Any law made in exercise of the power of the Legislature of the \\nState by Parliament or the President or other authority referred to in sub-clause \\n(a) of clause (1) which Parliament or the President or such other authority \\nwould not, but for the issue of a Proclamation under article 356, have been', metadata={'chunk': 1773.0, 'name': 'The Constitution of India'}),\n",
       " Document(page_content='time being applicable to the area in question. \\n(4) All regulations made under this paragraph shall be submitted \\nforthwith to the President and, until assented to by him, shall have no effect. \\n(5) No regulation shall be made under this paragraph unless the \\nGovernor 1** making the regulation has, in the case where there is a Tribes \\nAdvisory Council for the State, consulted such Council. \\nPART C', metadata={'chunk': 2270.0, 'name': 'The Constitution of India'}),\n",
       " Document(page_content='(Act LX of 1948). \\n17. Sections 52A to 52G of the Insurance Act, 1938 (Act IV of 1938), as inserted \\nby section 42 of the Insurance (Amendment) Act, 1950 (Act XLVII of 1950). \\n18. The Railway Companies (Emergency Provisions) Act, 1951 (Act LI of 1951). \\n______________________________________________', metadata={'chunk': 2639.0, 'name': 'The Constitution of India'})]"
      ]
     },
     "execution_count": 35,
     "metadata": {},
     "output_type": "execute_result"
    }
   ],
   "source": [
    "query = \"Which are the relevant regulations related to Emergency?\"\n",
    "vectorstore.similarity_search(\n",
    "    query, \n",
    "    k=15\n",
    ")"
   ]
  },
  {
   "cell_type": "code",
   "execution_count": 11,
   "metadata": {},
   "outputs": [
    {
     "name": "stderr",
     "output_type": "stream",
     "text": [
      "c:\\Users\\Pratik Sanghavi\\Desktop\\Projects\\Web-Scraping\\03. Web_Scraping_ScraPy\\Scrapy_Venv\\Lib\\site-packages\\langchain_core\\_api\\deprecation.py:115: LangChainDeprecationWarning: The class `ChatOpenAI` was deprecated in LangChain 0.1.0 and will be removed in 0.2.0. Use langchain_openai.ChatOpenAI instead.\n",
      "  warn_deprecated(\n"
     ]
    }
   ],
   "source": [
    "llm = ChatOpenAI()\n",
    "\n",
    "qa = RetrievalQA.from_chain_type(\n",
    "    llm=llm,\n",
    "    chain_type=\"stuff\",\n",
    "    retriever=vectorstore.as_retriever(search_kwargs={\"k\":15})\n",
    ")"
   ]
  },
  {
   "cell_type": "code",
   "execution_count": 49,
   "metadata": {},
   "outputs": [
    {
     "data": {
      "text/plain": [
       "'Based on the provided context, the relevant regulations related to Emergency are not specified.'"
      ]
     },
     "execution_count": 49,
     "metadata": {},
     "output_type": "execute_result"
    }
   ],
   "source": [
    "qa.run(query)"
   ]
  },
  {
   "cell_type": "code",
   "execution_count": 48,
   "metadata": {},
   "outputs": [
    {
     "data": {
      "text/plain": [
       "'No, during a Proclamation of Emergency, the President may suspend the enforcement of certain fundamental rights as stated in Article 359 of the Constitution of India. However, some fundamental rights like the right to life and personal liberty (Article 21) and the right against exploitation (Article 23) cannot be suspended even during an Emergency.'"
      ]
     },
     "execution_count": 48,
     "metadata": {},
     "output_type": "execute_result"
    }
   ],
   "source": [
    "qa.run(\"Are fundamental rights guaranteed during Emergency?\")"
   ]
  },
  {
   "cell_type": "code",
   "execution_count": 50,
   "metadata": {},
   "outputs": [
    {
     "data": {
      "text/plain": [
       "'According to the provided context, there is a mention of funds being charged and paid out of the Consolidated Fund of the State of Tamil Nadu for the maintenance of Hindu temples and shrines in the territories transferred to that state. However, there is no specific information regarding the management or regulation of Hindu temples.'"
      ]
     },
     "execution_count": 50,
     "metadata": {},
     "output_type": "execute_result"
    }
   ],
   "source": [
    "qa.run(\"What is stated with regards to Hindu temples?\")"
   ]
  },
  {
   "cell_type": "code",
   "execution_count": 51,
   "metadata": {},
   "outputs": [
    {
     "data": {
      "text/plain": [
       "'The limitations on the right to freedom of expression are mentioned in Article 19 of the Constitution. The law imposes reasonable restrictions on the exercise of the right to freedom of speech and expression in the interests of the sovereignty and integrity of India, the security of the State, friendly relations with foreign States, public order, decency or morality, contempt of court, defamation, or incitement to an offense. Additionally, the freedom of speech and expression does not give the right to make statements that may incite violence or promote hatred.'"
      ]
     },
     "execution_count": 51,
     "metadata": {},
     "output_type": "execute_result"
    }
   ],
   "source": [
    "qa.run(\"what are the limitations on the right to freedom of expression?\")"
   ]
  },
  {
   "cell_type": "code",
   "execution_count": 52,
   "metadata": {},
   "outputs": [
    {
     "data": {
      "text/plain": [
       "'Minorities in India are empowered by the constitution in several ways:\\n\\n1. Right to Establish and Administer Educational Institutions: The constitution grants minorities the right to establish and administer educational institutions of their choice. This ensures that minority communities can preserve and promote their distinct language, script, and culture.\\n\\n2. Equality of Opportunity: The constitution guarantees equality of opportunity for all citizens in matters relating to employment or appointment to any office under the state. No citizen can be discriminated against on the grounds of religion, race, caste, sex, descent, place of birth, or residence.\\n\\n3. Prohibition of Discrimination: The constitution prohibits discrimination on the grounds of religion, race, caste, sex, and place of birth. This ensures that minorities are protected from any form of discrimination and are treated equally before the law.\\n\\n4. Special Officer for Linguistic Minorities: The constitution mandates the appointment of a Special Officer for linguistic minorities, who is responsible for safeguarding the interests of linguistic minority communities.\\n\\n5. Reservation of Seats: The constitution provides for reservation of seats in Panchayats (local self-government institutions) in favor of backward classes of citizens. This helps uplift and empower minority communities by giving them representation and a voice in decision-making processes.\\n\\nThese provisions in the constitution aim to empower minorities and ensure their equal rights and opportunities in various aspects of life, including education, employment, and political participation.'"
      ]
     },
     "execution_count": 52,
     "metadata": {},
     "output_type": "execute_result"
    }
   ],
   "source": [
    "qa.run(\"How are minorities empowered by the constitution of India?\")"
   ]
  },
  {
   "cell_type": "code",
   "execution_count": 53,
   "metadata": {},
   "outputs": [
    {
     "data": {
      "text/plain": [
       "'Yes, the Constitution of India does have provisions for the reservation of seats and special representation for certain groups, such as Scheduled Castes, Scheduled Tribes, and socially and educationally backward classes of citizens. These provisions aim to provide equal opportunities and representation for these groups in various fields, including education and employment. However, it is important to note that these provisions are meant to address historical disadvantages faced by these groups and promote social justice, rather than disadvantage any particular group.'"
      ]
     },
     "execution_count": 53,
     "metadata": {},
     "output_type": "execute_result"
    }
   ],
   "source": [
    "qa.run(\"Does the constitution have any appeasement policies for minorities? Anything that disadvantages certain groups?\")"
   ]
  },
  {
   "cell_type": "code",
   "execution_count": 54,
   "metadata": {},
   "outputs": [
    {
     "data": {
      "text/plain": [
       "'Based on the given context, there are several policies mentioned in the Constitution of India that protect the rights of minorities, including Muslims and Christians. These policies include:\\n\\n1. Prohibition of discrimination: Article 15 of the Constitution prohibits discrimination on the grounds of religion, race, caste, sex, or place of birth. This means that no citizen can be discriminated against based solely on their religion, including Muslims and Christians.\\n\\n2. Protection of interests of minorities: Article 29 ensures the protection of the interests of minorities. It grants minorities the right to conserve their distinct language, script, and culture. It also prohibits the denial of admission to any educational institution based on religion, race, caste, language, or any other grounds.\\n\\n3. Freedom of religion: Article 25 guarantees freedom of conscience and the right to freely profess, practice, and propagate religion. This means that individuals, including Muslims and Christians, have the right to follow and promote their respective religions.\\n\\n4. Freedom to manage religious affairs: Article 26 grants every religious denomination the right to establish and maintain institutions for religious and charitable purposes. It also ensures the right to manage their own affairs in matters of religion.\\n\\n5. Protection of religious institutions: Article 27 ensures that no person can be compelled to pay taxes specifically for the promotion or maintenance of any particular religion or religious denomination.\\n\\nThese policies aim to protect the rights and interests of all citizens, including Muslims and Christians, and ensure equality and freedom of religion for all.'"
      ]
     },
     "execution_count": 54,
     "metadata": {},
     "output_type": "execute_result"
    }
   ],
   "source": [
    "qa.run(\"What are certain policies made with respect to Muslims and Christians?\")"
   ]
  },
  {
   "cell_type": "code",
   "execution_count": 12,
   "metadata": {},
   "outputs": [],
   "source": [
    "qa_with_source = RetrievalQAWithSourcesChain.from_chain_type(\n",
    "    llm=llm,\n",
    "    chain_type=\"stuff\",\n",
    "    retriever=vectorstore.as_retriever(search_kwargs={\"k\":15})\n",
    ")"
   ]
  },
  {
   "cell_type": "code",
   "execution_count": 13,
   "metadata": {},
   "outputs": [
    {
     "name": "stderr",
     "output_type": "stream",
     "text": [
      "c:\\Users\\Pratik Sanghavi\\Desktop\\Projects\\Web-Scraping\\03. Web_Scraping_ScraPy\\Scrapy_Venv\\Lib\\site-packages\\langchain_core\\_api\\deprecation.py:115: LangChainDeprecationWarning: The function `__call__` was deprecated in LangChain 0.1.0 and will be removed in 0.2.0. Use invoke instead.\n",
      "  warn_deprecated(\n"
     ]
    },
    {
     "data": {
      "text/plain": [
       "{'question': 'Which are the relevant regulations related to Emergency?',\n",
       " 'answer': 'The relevant regulations related to Emergency are outlined in the Constitution of India. These include provisions such as Article 352, which deals with the proclamation of Emergency, and Article 359, which allows for the suspension of the enforcement of rights conferred by Part III during emergencies. Additionally, other articles such as Article 356, Article 358, and Article 360 also address various aspects of emergency provisions. \\n',\n",
       " 'sources': 'The Constitution of India, parts 1790, 1777, 1787, 1242, 112, 1783, 1781, 113, 1742, 1717, 1778, 1743, 1773, 2270, 2639'}"
      ]
     },
     "execution_count": 13,
     "metadata": {},
     "output_type": "execute_result"
    }
   ],
   "source": [
    "query = \"Which are the relevant regulations related to Emergency?\"\n",
    "qa_with_source(query)"
   ]
  },
  {
   "cell_type": "code",
   "execution_count": 14,
   "metadata": {},
   "outputs": [
    {
     "data": {
      "text/plain": [
       "{'question': 'What are certain policies made with respect to Muslims and Christians? Are there any special carve outs or benefits accorded to them?',\n",
       " 'answer': 'The Constitution of India prohibits discrimination on the grounds of religion, race, caste, sex, or place of birth. It ensures equality of opportunity for all citizens in matters relating to employment or appointment to any office under the State. There are no special carve outs or benefits accorded to Muslims or Christians specifically. However, the Constitution does allow for special provisions to be made for the advancement of socially and educationally backward classes of citizens, as well as for Scheduled Castes and Scheduled Tribes. (The Constitution of India, part 181, part 13, part 170, part 10, part 238, part 8, part 12, part 106, part 102, part 104, part 114, part 237, part 233, part 1996, part 173)\\n',\n",
       " 'sources': 'The Constitution of India'}"
      ]
     },
     "execution_count": 14,
     "metadata": {},
     "output_type": "execute_result"
    }
   ],
   "source": [
    "qa_with_source(\"What are certain policies made with respect to Muslims and Christians? Are there any special carve outs or benefits accorded to them?\")"
   ]
  },
  {
   "cell_type": "code",
   "execution_count": 15,
   "metadata": {},
   "outputs": [
    {
     "data": {
      "text/plain": [
       "{'question': \"Do you think there's any section that disadvantages Hindus?\",\n",
       " 'answer': 'There is no section that specifically disadvantages Hindus in the provided excerpts.\\n',\n",
       " 'sources': 'The Constitution of India, part 169, part 232, part 170, part 191, part 173, part 181, part 1075, part 238, part 233, part 1716, part 297, part 231, part 228, part 237, part 1152'}"
      ]
     },
     "execution_count": 15,
     "metadata": {},
     "output_type": "execute_result"
    }
   ],
   "source": [
    "qa_with_source(\"Do you think there's any section that disadvantages Hindus?\")"
   ]
  }
 ],
 "metadata": {
  "kernelspec": {
   "display_name": "Scrapy_Venv",
   "language": "python",
   "name": "python3"
  },
  "language_info": {
   "codemirror_mode": {
    "name": "ipython",
    "version": 3
   },
   "file_extension": ".py",
   "mimetype": "text/x-python",
   "name": "python",
   "nbconvert_exporter": "python",
   "pygments_lexer": "ipython3",
   "version": "3.11.2"
  }
 },
 "nbformat": 4,
 "nbformat_minor": 2
}
